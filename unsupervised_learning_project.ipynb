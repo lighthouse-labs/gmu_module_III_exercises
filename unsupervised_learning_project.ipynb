{
 "cells": [
  {
   "cell_type": "markdown",
   "metadata": {},
   "source": [
    "## Unsupervised Learning Project\n",
    "Instructions for the Mini Project III.\n",
    "\n",
    "\n",
    "### Topics\n",
    "This mini project is dedicated to following topics:\n",
    "- Data Wrangling\n",
    "- Data Visualization\n",
    "- Data Preparation and Feature Engineering\n",
    "- Dimensionality Reduction\n",
    "- Unsupervised Learning\n",
    "\n",
    "### Data\n",
    "We will be using old data about different financial transactions. You can download the data from [here](https://drive.google.com/file/d/1zAjnf936aHkwVCq_BmA47p4lpRjyRzMf/view?usp=sharing). The data contains following tables:\n",
    "\n",
    "- twm_customer - information about customers\n",
    "- twm_accounts - information about accounts\n",
    "- twm_checking_accounts - information about checking accounts (subset of twm_accounts)\n",
    "- twm_credit_accounts - information about checking accounts (subset of twm_accounts)\n",
    "- twm_savings_accounts - information about checking accounts (subset of twm_accounts)\n",
    "- twm_transactions - information about financial transactions\n",
    "- twm_savings_tran - information about savings transactions (subset of twm_transactions)\n",
    "- twm_checking_tran - information about savings transactions (subset of twm_transactions)\n",
    "- twm_credit_tran - information about credit checking (subset of twm_transactions)\n",
    "\n",
    "\n",
    "### Output\n",
    "\n",
    "In this miniproject, we will:\n",
    "\n",
    "1.  create two separate customer segmentations (using clustering) to split them into 3-5 clusters: \n",
    "    - based on demographics (only on the information from twm_customer)\n",
    "    - based on their banking behavior. We can take following things into consideration as banking behavior:\n",
    "        - do they have savings account? How much do they save?\n",
    "        - do they have credit account? How much do they live in debt?\n",
    "        - are they making lot of small transactions or few huge ones?\n",
    "2. visualize the created clusters using [radar charts](https://plotly.com/python/radar-chart/) and compare them agains each other\n",
    "3. visualize segmentations using scatter plot. We will have to use PCA to be able to plot our observations in 2D.\n",
    "4. (stretch) visualize in 2D how our clusters are evolving in each iteration of KMeans (for at least 20 iterations).\n",
    "    - we will need to create own implementation of kmeans so we can see what is happening with the clusters during the iterations.\n"
   ]
  },
  {
   "cell_type": "code",
   "execution_count": null,
   "metadata": {},
   "outputs": [],
   "source": []
  }
 ],
 "metadata": {
  "kernelspec": {
   "display_name": "Python 3",
   "language": "python",
   "name": "python3"
  },
  "language_info": {
   "codemirror_mode": {
    "name": "ipython",
    "version": 3
   },
   "file_extension": ".py",
   "mimetype": "text/x-python",
   "name": "python",
   "nbconvert_exporter": "python",
   "pygments_lexer": "ipython3",
   "version": "3.7.6"
  }
 },
 "nbformat": 4,
 "nbformat_minor": 4
}
